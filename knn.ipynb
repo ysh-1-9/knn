{
 "cells": [
  {
   "cell_type": "code",
   "execution_count": 1,
   "metadata": {},
   "outputs": [],
   "source": [
    "# This is a sample Python script.\n",
    "\n",
    "# Press ⌃R to execute it or replace it with your code.\n",
    "# Press Double ⇧ to search everywhere for classes, files, tool windows, actions, and settings.\n",
    "import numpy as np\n",
    "import scipy\n",
    "from scipy.spatial import distance\n",
    "import pandas as pd\n",
    "import sklearn\n",
    "from sklearn.feature_extraction.text import CountVectorizer"
   ]
  },
  {
   "cell_type": "code",
   "execution_count": 15,
   "metadata": {
    "pycharm": {
     "name": "#%%\n"
    }
   },
   "outputs": [],
   "source": [
    "class KNN:\n",
    "    def __init__(self):\n",
    "        self.X = None\n",
    "        self.y = None\n",
    "        \n",
    "        self.k = 0\n",
    "        self.metric = None\n",
    "        \n",
    "    def fit(self,X,y):\n",
    "        if len(X)==len(y):\n",
    "            self.X = X\n",
    "            self.y = y\n",
    "        else:\n",
    "            print(f'Input sizes not same. X: {len(X)}, y: {len(y)}. No fitting done')\n",
    "        \n",
    "    def setmode(self,k,metric):\n",
    "        # distance.cosine, distance.euclidean, distance.cdist\n",
    "        self.k = k\n",
    "        self.metric = metric\n",
    "        print(f'Set k = {k}, metric = {metric}')\n",
    "        \n",
    "        \n",
    "    # OPTIMIZE TO O(NLOGN)\n",
    "    # USE SPARSE KD TREES\n",
    "    def predict(self,x):\n",
    "        distances = []\n",
    "        for i in range(len(self.X)):\n",
    "            distances.append((self.metric(self.X[i],x),self.y[i]))\n",
    "        distances = sorted(distances, key = lambda x: x[0])\n",
    "        \n",
    "        return 1 if sum(distances[i][1] for i in range(self.k))>(self.k/2) else 0\n",
    "    \n",
    "    # RETURN MORE INFORM\n",
    "    def evaluate(self,Xtest,ytest):\n",
    "        corrects = 0\n",
    "        total = 0\n",
    "        for i in range(len(Xtest)):\n",
    "            x = Xtest[i]\n",
    "            y = ytest[i]\n",
    "            \n",
    "            pred = self.predict(x)\n",
    "            if pred==y:\n",
    "                print(f'{i}/{len(Xtest)}: good')\n",
    "                corrects+=1\n",
    "            else:\n",
    "                print(f'{i}/{len(Xtest)}: bad')\n",
    "            total+=1\n",
    "        \n",
    "        return (corrects/total)\n",
    "            "
   ]
  },
  {
   "cell_type": "code",
   "execution_count": 3,
   "metadata": {
    "pycharm": {
     "name": "#%%\n"
    }
   },
   "outputs": [
    {
     "data": {
      "text/html": [
       "<div>\n",
       "<style scoped>\n",
       "    .dataframe tbody tr th:only-of-type {\n",
       "        vertical-align: middle;\n",
       "    }\n",
       "\n",
       "    .dataframe tbody tr th {\n",
       "        vertical-align: top;\n",
       "    }\n",
       "\n",
       "    .dataframe thead th {\n",
       "        text-align: right;\n",
       "    }\n",
       "</style>\n",
       "<table border=\"1\" class=\"dataframe\">\n",
       "  <thead>\n",
       "    <tr style=\"text-align: right;\">\n",
       "      <th></th>\n",
       "      <th>label</th>\n",
       "      <th>text</th>\n",
       "      <th>label_num</th>\n",
       "    </tr>\n",
       "  </thead>\n",
       "  <tbody>\n",
       "    <tr>\n",
       "      <th>0</th>\n",
       "      <td>ham</td>\n",
       "      <td>Subject: enron methanol ; meter # : 988291\\r\\n...</td>\n",
       "      <td>0</td>\n",
       "    </tr>\n",
       "    <tr>\n",
       "      <th>1</th>\n",
       "      <td>ham</td>\n",
       "      <td>Subject: hpl nom for january 9 , 2001\\r\\n( see...</td>\n",
       "      <td>0</td>\n",
       "    </tr>\n",
       "    <tr>\n",
       "      <th>2</th>\n",
       "      <td>ham</td>\n",
       "      <td>Subject: neon retreat\\r\\nho ho ho , we ' re ar...</td>\n",
       "      <td>0</td>\n",
       "    </tr>\n",
       "    <tr>\n",
       "      <th>3</th>\n",
       "      <td>spam</td>\n",
       "      <td>Subject: photoshop , windows , office . cheap ...</td>\n",
       "      <td>1</td>\n",
       "    </tr>\n",
       "    <tr>\n",
       "      <th>4</th>\n",
       "      <td>ham</td>\n",
       "      <td>Subject: re : indian springs\\r\\nthis deal is t...</td>\n",
       "      <td>0</td>\n",
       "    </tr>\n",
       "  </tbody>\n",
       "</table>\n",
       "</div>"
      ],
      "text/plain": [
       "  label                                               text  label_num\n",
       "0   ham  Subject: enron methanol ; meter # : 988291\\r\\n...          0\n",
       "1   ham  Subject: hpl nom for january 9 , 2001\\r\\n( see...          0\n",
       "2   ham  Subject: neon retreat\\r\\nho ho ho , we ' re ar...          0\n",
       "3  spam  Subject: photoshop , windows , office . cheap ...          1\n",
       "4   ham  Subject: re : indian springs\\r\\nthis deal is t...          0"
      ]
     },
     "execution_count": 3,
     "metadata": {},
     "output_type": "execute_result"
    }
   ],
   "source": [
    "dataset = pd.read_csv('spam_ham_dataset.csv')\n",
    "dataset.drop('Unnamed: 0',axis=1, inplace=True)\n",
    "dataset.head()"
   ]
  },
  {
   "cell_type": "code",
   "execution_count": 4,
   "metadata": {},
   "outputs": [],
   "source": [
    "# how do i give data to the classifier\n",
    "# each x is some d dimensional vector that i'll have to encode from text, and each y is a number\n",
    "# i'll have one numpy array of size Nxd. each row is an email, but it has word counts.\n",
    "# i'll convert label_num to a numpy array.\n",
    "# i'll test_train_split after tokenizing and converting label_num to a numpy array.\n",
    "# then i'll pass X, y to knn fit which will save all of it."
   ]
  },
  {
   "cell_type": "code",
   "execution_count": 5,
   "metadata": {},
   "outputs": [
    {
     "name": "stdout",
     "output_type": "stream",
     "text": [
      "0       Subject: enron methanol ; meter # : 988291\\r\\n...\n",
      "1       Subject: hpl nom for january 9 , 2001\\r\\n( see...\n",
      "2       Subject: neon retreat\\r\\nho ho ho , we ' re ar...\n",
      "3       Subject: photoshop , windows , office . cheap ...\n",
      "4       Subject: re : indian springs\\r\\nthis deal is t...\n",
      "                              ...                        \n",
      "5166    Subject: put the 10 on the ft\\r\\nthe transport...\n",
      "5167    Subject: 3 / 4 / 2000 and following noms\\r\\nhp...\n",
      "5168    Subject: calpine daily gas nomination\\r\\n>\\r\\n...\n",
      "5169    Subject: industrial worksheets for august 2000...\n",
      "5170    Subject: important online banking alert\\r\\ndea...\n",
      "Name: text, Length: 5171, dtype: object\n"
     ]
    }
   ],
   "source": [
    "vectorizer = CountVectorizer()\n",
    "print(dataset.text)"
   ]
  },
  {
   "cell_type": "code",
   "execution_count": 6,
   "metadata": {
    "pycharm": {
     "name": "#%%\n"
    }
   },
   "outputs": [],
   "source": [
    "vectorizer.fit(dataset.text)\n",
    "encoded_text = vectorizer.transform(dataset.text)"
   ]
  },
  {
   "cell_type": "code",
   "execution_count": 7,
   "metadata": {
    "pycharm": {
     "name": "#%%\n"
    }
   },
   "outputs": [
    {
     "name": "stdout",
     "output_type": "stream",
     "text": [
      "(5171, 50447)\n"
     ]
    }
   ],
   "source": [
    "encoded_text = encoded_text.toarray()\n",
    "print(encoded_text.shape)"
   ]
  },
  {
   "cell_type": "code",
   "execution_count": 10,
   "metadata": {},
   "outputs": [
    {
     "name": "stdout",
     "output_type": "stream",
     "text": [
      "(5171,)\n",
      "[0 0 0 ... 0 0 1]\n"
     ]
    }
   ],
   "source": [
    "y = dataset.label_num.to_numpy()\n",
    "print(y.shape)\n",
    "print(y)"
   ]
  },
  {
   "cell_type": "code",
   "execution_count": 16,
   "metadata": {},
   "outputs": [
    {
     "name": "stdout",
     "output_type": "stream",
     "text": [
      "Set k = 10, metric = <function euclidean at 0x7f88ee0fc280>\n",
      "0/1035: good\n",
      "1/1035: bad\n",
      "2/1035: good\n",
      "3/1035: bad\n",
      "4/1035: good\n",
      "5/1035: good\n",
      "6/1035: good\n",
      "7/1035: good\n",
      "8/1035: good\n",
      "9/1035: good\n",
      "10/1035: good\n",
      "11/1035: good\n",
      "12/1035: good\n",
      "13/1035: good\n",
      "14/1035: good\n",
      "15/1035: good\n",
      "16/1035: good\n",
      "17/1035: good\n",
      "18/1035: good\n",
      "19/1035: good\n",
      "20/1035: good\n",
      "21/1035: good\n",
      "22/1035: good\n",
      "23/1035: bad\n",
      "24/1035: good\n",
      "25/1035: good\n",
      "26/1035: good\n",
      "27/1035: bad\n",
      "28/1035: good\n",
      "29/1035: good\n",
      "30/1035: good\n",
      "31/1035: good\n",
      "32/1035: good\n",
      "33/1035: good\n",
      "34/1035: good\n",
      "35/1035: bad\n",
      "36/1035: good\n",
      "37/1035: good\n",
      "38/1035: good\n",
      "39/1035: bad\n",
      "40/1035: bad\n",
      "41/1035: good\n",
      "42/1035: good\n",
      "43/1035: good\n",
      "44/1035: good\n",
      "45/1035: good\n",
      "46/1035: good\n",
      "47/1035: good\n",
      "48/1035: bad\n",
      "49/1035: bad\n",
      "50/1035: good\n",
      "51/1035: good\n",
      "52/1035: bad\n",
      "53/1035: bad\n",
      "54/1035: good\n",
      "55/1035: good\n",
      "56/1035: good\n",
      "57/1035: good\n",
      "58/1035: good\n",
      "59/1035: bad\n",
      "60/1035: good\n",
      "61/1035: bad\n",
      "62/1035: bad\n",
      "63/1035: good\n",
      "64/1035: good\n",
      "65/1035: good\n",
      "66/1035: good\n",
      "67/1035: good\n",
      "68/1035: good\n",
      "69/1035: good\n",
      "70/1035: bad\n",
      "71/1035: bad\n",
      "72/1035: good\n",
      "73/1035: good\n",
      "74/1035: good\n",
      "75/1035: good\n",
      "76/1035: good\n",
      "77/1035: good\n"
     ]
    },
    {
     "ename": "KeyboardInterrupt",
     "evalue": "",
     "output_type": "error",
     "traceback": [
      "\u001B[0;31m---------------------------------------------------------------------------\u001B[0m",
      "\u001B[0;31mKeyboardInterrupt\u001B[0m                         Traceback (most recent call last)",
      "\u001B[0;32m/var/folders/xy/2zt320xx5nv0kc5ts_53p0mc0000gn/T/ipykernel_12733/3653603626.py\u001B[0m in \u001B[0;36m<module>\u001B[0;34m\u001B[0m\n\u001B[1;32m      6\u001B[0m \u001B[0mknn\u001B[0m\u001B[0;34m.\u001B[0m\u001B[0mfit\u001B[0m\u001B[0;34m(\u001B[0m\u001B[0mXtrain\u001B[0m\u001B[0;34m,\u001B[0m\u001B[0mytrain\u001B[0m\u001B[0;34m)\u001B[0m\u001B[0;34m\u001B[0m\u001B[0;34m\u001B[0m\u001B[0m\n\u001B[1;32m      7\u001B[0m \u001B[0mknn\u001B[0m\u001B[0;34m.\u001B[0m\u001B[0msetmode\u001B[0m\u001B[0;34m(\u001B[0m\u001B[0;36m10\u001B[0m\u001B[0;34m,\u001B[0m\u001B[0mdistance\u001B[0m\u001B[0;34m.\u001B[0m\u001B[0meuclidean\u001B[0m\u001B[0;34m)\u001B[0m\u001B[0;34m\u001B[0m\u001B[0;34m\u001B[0m\u001B[0m\n\u001B[0;32m----> 8\u001B[0;31m \u001B[0mprint\u001B[0m\u001B[0;34m(\u001B[0m\u001B[0mknn\u001B[0m\u001B[0;34m.\u001B[0m\u001B[0mevaluate\u001B[0m\u001B[0;34m(\u001B[0m\u001B[0mXtest\u001B[0m\u001B[0;34m,\u001B[0m\u001B[0mytest\u001B[0m\u001B[0;34m)\u001B[0m\u001B[0;34m)\u001B[0m\u001B[0;34m\u001B[0m\u001B[0;34m\u001B[0m\u001B[0m\n\u001B[0m",
      "\u001B[0;32m/var/folders/xy/2zt320xx5nv0kc5ts_53p0mc0000gn/T/ipykernel_12733/2870907694.py\u001B[0m in \u001B[0;36mevaluate\u001B[0;34m(self, Xtest, ytest)\u001B[0m\n\u001B[1;32m     35\u001B[0m             \u001B[0my\u001B[0m \u001B[0;34m=\u001B[0m \u001B[0mytest\u001B[0m\u001B[0;34m[\u001B[0m\u001B[0mi\u001B[0m\u001B[0;34m]\u001B[0m\u001B[0;34m\u001B[0m\u001B[0;34m\u001B[0m\u001B[0m\n\u001B[1;32m     36\u001B[0m \u001B[0;34m\u001B[0m\u001B[0m\n\u001B[0;32m---> 37\u001B[0;31m             \u001B[0mpred\u001B[0m \u001B[0;34m=\u001B[0m \u001B[0mself\u001B[0m\u001B[0;34m.\u001B[0m\u001B[0mpredict\u001B[0m\u001B[0;34m(\u001B[0m\u001B[0mx\u001B[0m\u001B[0;34m)\u001B[0m\u001B[0;34m\u001B[0m\u001B[0;34m\u001B[0m\u001B[0m\n\u001B[0m\u001B[1;32m     38\u001B[0m             \u001B[0;32mif\u001B[0m \u001B[0mpred\u001B[0m\u001B[0;34m==\u001B[0m\u001B[0my\u001B[0m\u001B[0;34m:\u001B[0m\u001B[0;34m\u001B[0m\u001B[0;34m\u001B[0m\u001B[0m\n\u001B[1;32m     39\u001B[0m                 \u001B[0mprint\u001B[0m\u001B[0;34m(\u001B[0m\u001B[0;34mf'{i}/{len(Xtest)}: good'\u001B[0m\u001B[0;34m)\u001B[0m\u001B[0;34m\u001B[0m\u001B[0;34m\u001B[0m\u001B[0m\n",
      "\u001B[0;32m/var/folders/xy/2zt320xx5nv0kc5ts_53p0mc0000gn/T/ipykernel_12733/2870907694.py\u001B[0m in \u001B[0;36mpredict\u001B[0;34m(self, x)\u001B[0m\n\u001B[1;32m     23\u001B[0m         \u001B[0mdistances\u001B[0m \u001B[0;34m=\u001B[0m \u001B[0;34m[\u001B[0m\u001B[0;34m]\u001B[0m\u001B[0;34m\u001B[0m\u001B[0;34m\u001B[0m\u001B[0m\n\u001B[1;32m     24\u001B[0m         \u001B[0;32mfor\u001B[0m \u001B[0mi\u001B[0m \u001B[0;32min\u001B[0m \u001B[0mrange\u001B[0m\u001B[0;34m(\u001B[0m\u001B[0mlen\u001B[0m\u001B[0;34m(\u001B[0m\u001B[0mself\u001B[0m\u001B[0;34m.\u001B[0m\u001B[0mX\u001B[0m\u001B[0;34m)\u001B[0m\u001B[0;34m)\u001B[0m\u001B[0;34m:\u001B[0m\u001B[0;34m\u001B[0m\u001B[0;34m\u001B[0m\u001B[0m\n\u001B[0;32m---> 25\u001B[0;31m             \u001B[0mdistances\u001B[0m\u001B[0;34m.\u001B[0m\u001B[0mappend\u001B[0m\u001B[0;34m(\u001B[0m\u001B[0;34m(\u001B[0m\u001B[0mself\u001B[0m\u001B[0;34m.\u001B[0m\u001B[0mmetric\u001B[0m\u001B[0;34m(\u001B[0m\u001B[0mself\u001B[0m\u001B[0;34m.\u001B[0m\u001B[0mX\u001B[0m\u001B[0;34m[\u001B[0m\u001B[0mi\u001B[0m\u001B[0;34m]\u001B[0m\u001B[0;34m,\u001B[0m\u001B[0mx\u001B[0m\u001B[0;34m)\u001B[0m\u001B[0;34m,\u001B[0m\u001B[0mself\u001B[0m\u001B[0;34m.\u001B[0m\u001B[0my\u001B[0m\u001B[0;34m[\u001B[0m\u001B[0mi\u001B[0m\u001B[0;34m]\u001B[0m\u001B[0;34m)\u001B[0m\u001B[0;34m)\u001B[0m\u001B[0;34m\u001B[0m\u001B[0;34m\u001B[0m\u001B[0m\n\u001B[0m\u001B[1;32m     26\u001B[0m         \u001B[0mdistances\u001B[0m \u001B[0;34m=\u001B[0m \u001B[0msorted\u001B[0m\u001B[0;34m(\u001B[0m\u001B[0mdistances\u001B[0m\u001B[0;34m,\u001B[0m \u001B[0mkey\u001B[0m \u001B[0;34m=\u001B[0m \u001B[0;32mlambda\u001B[0m \u001B[0mx\u001B[0m\u001B[0;34m:\u001B[0m \u001B[0mx\u001B[0m\u001B[0;34m[\u001B[0m\u001B[0;36m0\u001B[0m\u001B[0;34m]\u001B[0m\u001B[0;34m)\u001B[0m\u001B[0;34m\u001B[0m\u001B[0;34m\u001B[0m\u001B[0m\n\u001B[1;32m     27\u001B[0m \u001B[0;34m\u001B[0m\u001B[0m\n",
      "\u001B[0;32m~/PycharmProjects/knn/venv/lib/python3.8/site-packages/scipy/spatial/distance.py\u001B[0m in \u001B[0;36meuclidean\u001B[0;34m(u, v, w)\u001B[0m\n\u001B[1;32m    595\u001B[0m \u001B[0;34m\u001B[0m\u001B[0m\n\u001B[1;32m    596\u001B[0m     \"\"\"\n\u001B[0;32m--> 597\u001B[0;31m     \u001B[0;32mreturn\u001B[0m \u001B[0mminkowski\u001B[0m\u001B[0;34m(\u001B[0m\u001B[0mu\u001B[0m\u001B[0;34m,\u001B[0m \u001B[0mv\u001B[0m\u001B[0;34m,\u001B[0m \u001B[0mp\u001B[0m\u001B[0;34m=\u001B[0m\u001B[0;36m2\u001B[0m\u001B[0;34m,\u001B[0m \u001B[0mw\u001B[0m\u001B[0;34m=\u001B[0m\u001B[0mw\u001B[0m\u001B[0;34m)\u001B[0m\u001B[0;34m\u001B[0m\u001B[0;34m\u001B[0m\u001B[0m\n\u001B[0m\u001B[1;32m    598\u001B[0m \u001B[0;34m\u001B[0m\u001B[0m\n\u001B[1;32m    599\u001B[0m \u001B[0;34m\u001B[0m\u001B[0m\n",
      "\u001B[0;32m~/PycharmProjects/knn/venv/lib/python3.8/site-packages/scipy/spatial/distance.py\u001B[0m in \u001B[0;36mminkowski\u001B[0;34m(u, v, p, w)\u001B[0m\n\u001B[1;32m    499\u001B[0m             \u001B[0mroot_w\u001B[0m \u001B[0;34m=\u001B[0m \u001B[0mnp\u001B[0m\u001B[0;34m.\u001B[0m\u001B[0mpower\u001B[0m\u001B[0;34m(\u001B[0m\u001B[0mw\u001B[0m\u001B[0;34m,\u001B[0m \u001B[0;36m1\u001B[0m\u001B[0;34m/\u001B[0m\u001B[0mp\u001B[0m\u001B[0;34m)\u001B[0m\u001B[0;34m\u001B[0m\u001B[0;34m\u001B[0m\u001B[0m\n\u001B[1;32m    500\u001B[0m         \u001B[0mu_v\u001B[0m \u001B[0;34m=\u001B[0m \u001B[0mroot_w\u001B[0m \u001B[0;34m*\u001B[0m \u001B[0mu_v\u001B[0m\u001B[0;34m\u001B[0m\u001B[0;34m\u001B[0m\u001B[0m\n\u001B[0;32m--> 501\u001B[0;31m     \u001B[0mdist\u001B[0m \u001B[0;34m=\u001B[0m \u001B[0mnorm\u001B[0m\u001B[0;34m(\u001B[0m\u001B[0mu_v\u001B[0m\u001B[0;34m,\u001B[0m \u001B[0mord\u001B[0m\u001B[0;34m=\u001B[0m\u001B[0mp\u001B[0m\u001B[0;34m)\u001B[0m\u001B[0;34m\u001B[0m\u001B[0;34m\u001B[0m\u001B[0m\n\u001B[0m\u001B[1;32m    502\u001B[0m     \u001B[0;32mreturn\u001B[0m \u001B[0mdist\u001B[0m\u001B[0;34m\u001B[0m\u001B[0;34m\u001B[0m\u001B[0m\n\u001B[1;32m    503\u001B[0m \u001B[0;34m\u001B[0m\u001B[0m\n",
      "\u001B[0;32m~/PycharmProjects/knn/venv/lib/python3.8/site-packages/scipy/linalg/misc.py\u001B[0m in \u001B[0;36mnorm\u001B[0;34m(a, ord, axis, keepdims, check_finite)\u001B[0m\n\u001B[1;32m    175\u001B[0m \u001B[0;34m\u001B[0m\u001B[0m\n\u001B[1;32m    176\u001B[0m     \u001B[0;31m# fall back to numpy in every other case\u001B[0m\u001B[0;34m\u001B[0m\u001B[0;34m\u001B[0m\u001B[0;34m\u001B[0m\u001B[0m\n\u001B[0;32m--> 177\u001B[0;31m     \u001B[0;32mreturn\u001B[0m \u001B[0mnp\u001B[0m\u001B[0;34m.\u001B[0m\u001B[0mlinalg\u001B[0m\u001B[0;34m.\u001B[0m\u001B[0mnorm\u001B[0m\u001B[0;34m(\u001B[0m\u001B[0ma\u001B[0m\u001B[0;34m,\u001B[0m \u001B[0mord\u001B[0m\u001B[0;34m=\u001B[0m\u001B[0mord\u001B[0m\u001B[0;34m,\u001B[0m \u001B[0maxis\u001B[0m\u001B[0;34m=\u001B[0m\u001B[0maxis\u001B[0m\u001B[0;34m,\u001B[0m \u001B[0mkeepdims\u001B[0m\u001B[0;34m=\u001B[0m\u001B[0mkeepdims\u001B[0m\u001B[0;34m)\u001B[0m\u001B[0;34m\u001B[0m\u001B[0;34m\u001B[0m\u001B[0m\n\u001B[0m\u001B[1;32m    178\u001B[0m \u001B[0;34m\u001B[0m\u001B[0m\n\u001B[1;32m    179\u001B[0m \u001B[0;34m\u001B[0m\u001B[0m\n",
      "\u001B[0;32m<__array_function__ internals>\u001B[0m in \u001B[0;36mnorm\u001B[0;34m(*args, **kwargs)\u001B[0m\n",
      "\u001B[0;32m~/PycharmProjects/knn/venv/lib/python3.8/site-packages/numpy/linalg/linalg.py\u001B[0m in \u001B[0;36mnorm\u001B[0;34m(x, ord, axis, keepdims)\u001B[0m\n\u001B[1;32m   2529\u001B[0m             \u001B[0;32melse\u001B[0m\u001B[0;34m:\u001B[0m\u001B[0;34m\u001B[0m\u001B[0;34m\u001B[0m\u001B[0m\n\u001B[1;32m   2530\u001B[0m                 \u001B[0msqnorm\u001B[0m \u001B[0;34m=\u001B[0m \u001B[0mdot\u001B[0m\u001B[0;34m(\u001B[0m\u001B[0mx\u001B[0m\u001B[0;34m,\u001B[0m \u001B[0mx\u001B[0m\u001B[0;34m)\u001B[0m\u001B[0;34m\u001B[0m\u001B[0;34m\u001B[0m\u001B[0m\n\u001B[0;32m-> 2531\u001B[0;31m             \u001B[0mret\u001B[0m \u001B[0;34m=\u001B[0m \u001B[0msqrt\u001B[0m\u001B[0;34m(\u001B[0m\u001B[0msqnorm\u001B[0m\u001B[0;34m)\u001B[0m\u001B[0;34m\u001B[0m\u001B[0;34m\u001B[0m\u001B[0m\n\u001B[0m\u001B[1;32m   2532\u001B[0m             \u001B[0;32mif\u001B[0m \u001B[0mkeepdims\u001B[0m\u001B[0;34m:\u001B[0m\u001B[0;34m\u001B[0m\u001B[0;34m\u001B[0m\u001B[0m\n\u001B[1;32m   2533\u001B[0m                 \u001B[0mret\u001B[0m \u001B[0;34m=\u001B[0m \u001B[0mret\u001B[0m\u001B[0;34m.\u001B[0m\u001B[0mreshape\u001B[0m\u001B[0;34m(\u001B[0m\u001B[0mndim\u001B[0m\u001B[0;34m*\u001B[0m\u001B[0;34m[\u001B[0m\u001B[0;36m1\u001B[0m\u001B[0;34m]\u001B[0m\u001B[0;34m)\u001B[0m\u001B[0;34m\u001B[0m\u001B[0;34m\u001B[0m\u001B[0m\n",
      "\u001B[0;31mKeyboardInterrupt\u001B[0m: "
     ]
    }
   ],
   "source": [
    "from sklearn.model_selection import train_test_split\n",
    "Xtrain, Xtest, ytrain, ytest = train_test_split(encoded_text,y, test_size=0.2)\n",
    "\n",
    "\n",
    "knn = KNN()\n",
    "knn.fit(Xtrain,ytrain)\n",
    "knn.setmode(10,distance.euclidean)\n",
    "print(knn.evaluate(Xtest,ytest))"
   ]
  },
  {
   "cell_type": "code",
   "execution_count": null,
   "metadata": {},
   "outputs": [],
   "source": []
  }
 ],
 "metadata": {
  "kernelspec": {
   "display_name": "Python 3 (ipykernel)",
   "language": "python",
   "name": "python3"
  },
  "language_info": {
   "codemirror_mode": {
    "name": "ipython",
    "version": 3
   },
   "file_extension": ".py",
   "mimetype": "text/x-python",
   "name": "python",
   "nbconvert_exporter": "python",
   "pygments_lexer": "ipython3",
   "version": "3.8.3"
  }
 },
 "nbformat": 4,
 "nbformat_minor": 1
}